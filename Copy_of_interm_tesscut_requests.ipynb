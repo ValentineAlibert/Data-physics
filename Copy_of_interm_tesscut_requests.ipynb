{
  "nbformat": 4,
  "nbformat_minor": 0,
  "metadata": {
    "kernelspec": {
      "display_name": "Python 3",
      "language": "python",
      "name": "python3"
    },
    "language_info": {
      "codemirror_mode": {
        "name": "ipython",
        "version": 3
      },
      "file_extension": ".py",
      "mimetype": "text/x-python",
      "name": "python",
      "nbconvert_exporter": "python",
      "pygments_lexer": "ipython3",
      "version": "3.6.8"
    },
    "colab": {
      "name": "Copy of interm_tesscut_requests.ipynb",
      "provenance": [],
      "include_colab_link": true
    }
  },
  "cells": [
    {
      "cell_type": "markdown",
      "metadata": {
        "id": "view-in-github",
        "colab_type": "text"
      },
      "source": [
        "<a href=\"https://colab.research.google.com/github/ValentineAlibert/Data-physics/blob/master/Copy_of_interm_tesscut_requests.ipynb\" target=\"_parent\"><img src=\"https://colab.research.google.com/assets/colab-badge.svg\" alt=\"Open In Colab\"/></a>"
      ]
    },
    {
      "cell_type": "markdown",
      "metadata": {
        "id": "uQhsxZLU8_u8",
        "colab_type": "text"
      },
      "source": [
        "<a id=\"title_ID\"></a>\n",
        "# Intermediate: Create TESS FFI Cutout using Python Requests\n",
        "\n",
        "This notebook shows the user how to use the MAST programmatic interface to create a cutout of a small section of the TESS FFIs. For this example we will determine the RA and Dec for TIC ID = 261136679, Pi Mensae. We then perform a query to determine which sectors contain this RA and Dec, peform a cutout of the FFI timeseries, open the resulting target pixel files, and plot the first image. \n",
        "\n",
        "This tutorial shows the users how to do the following: use astroquery.catalogs to query the TIC, use the python requests module to query the available sectors, and use python requests to obtain an FFI cutout with astrocut.\n",
        "\n",
        "The online version of Tesscut, as well as links to the documentation can be found here, https://mast.stsci.edu/tesscut/.\n",
        "\n",
        "\n",
        "### Table of Contents \n",
        "  [Astroquery Search of the TIC](#catalog_ID) <br> \n",
        "  [Request a FFI Cutout](#tesscut_ID) <br>\n",
        "  [Additional Resources](#resources_ID) <br> \n",
        "  [About this Notebook](#about_ID) "
      ]
    },
    {
      "cell_type": "markdown",
      "metadata": {
        "id": "atZ-E1Tm8_vA",
        "colab_type": "text"
      },
      "source": [
        "***"
      ]
    },
    {
      "cell_type": "markdown",
      "metadata": {
        "id": "74b1-ZS18_vC",
        "colab_type": "text"
      },
      "source": [
        "## Import Statements\n",
        "<a id=\"imports_ID\"></a>\n",
        "\n",
        "We start with a few import statements.\n",
        "- *numpy* to handle array functions\n",
        "- *astropy.io.fits* for accessing FITS files\n",
        "- *astropy.wcs.WCS* to interpret the World Coordinate Systems\n",
        "- *matplotlib.pyplot* for plotting the data\n",
        "- *astroquery.mast* to do the catalog search. \n",
        "- *zipfile* to unzip the downloaded file\n",
        "\n",
        "For ease of use later on, we also set a the root url for our requests. "
      ]
    },
    {
      "cell_type": "code",
      "metadata": {
        "id": "DfsUGoar8_vG",
        "colab_type": "code",
        "colab": {
          "base_uri": "https://localhost:8080/",
          "height": 627
        },
        "outputId": "caed8dfa-ae77-4cd6-adf0-e65684ac6cb9"
      },
      "source": [
        "!pip install astroquery\n",
        "import numpy as np\n",
        "from astropy.io import fits\n",
        "import requests\n",
        "from astroquery.mast import Catalogs\n",
        "import zipfile\n",
        "from astropy.wcs import WCS\n",
        "import matplotlib.pyplot as plt\n",
        "\n",
        "%matplotlib inline\n",
        "\n",
        "urlroot = \"https://mast.stsci.edu/tesscut/api/v0.1\""
      ],
      "execution_count": 4,
      "outputs": [
        {
          "output_type": "stream",
          "text": [
            "Collecting astroquery\n",
            "\u001b[?25l  Downloading https://files.pythonhosted.org/packages/e2/af/a3cd3b30745832a0e81f5f13327234099aaf5d03b7979ac947a888e68e91/astroquery-0.4.tar.gz (4.5MB)\n",
            "\u001b[K     |████████████████████████████████| 4.5MB 5.1MB/s \n",
            "\u001b[?25hRequirement already satisfied: astropy>=2.0 in /usr/local/lib/python3.6/dist-packages (from astroquery) (4.0)\n",
            "Requirement already satisfied: requests>=2.4.3 in /usr/local/lib/python3.6/dist-packages (from astroquery) (2.21.0)\n",
            "Collecting keyring>=4.0\n",
            "  Downloading https://files.pythonhosted.org/packages/28/40/2bed013b87d6d2bf4104db67bab7c8c5b5f88ff68b383dc967b6019ee9e5/keyring-21.1.0-py2.py3-none-any.whl\n",
            "Requirement already satisfied: beautifulsoup4>=4.3.2 in /usr/local/lib/python3.6/dist-packages (from astroquery) (4.6.3)\n",
            "Requirement already satisfied: html5lib>=0.999 in /usr/local/lib/python3.6/dist-packages (from astroquery) (1.0.1)\n",
            "Requirement already satisfied: six in /usr/local/lib/python3.6/dist-packages (from astroquery) (1.12.0)\n",
            "Requirement already satisfied: numpy>=1.16 in /usr/local/lib/python3.6/dist-packages (from astropy>=2.0->astroquery) (1.17.5)\n",
            "Requirement already satisfied: certifi>=2017.4.17 in /usr/local/lib/python3.6/dist-packages (from requests>=2.4.3->astroquery) (2019.11.28)\n",
            "Requirement already satisfied: urllib3<1.25,>=1.21.1 in /usr/local/lib/python3.6/dist-packages (from requests>=2.4.3->astroquery) (1.24.3)\n",
            "Requirement already satisfied: chardet<3.1.0,>=3.0.2 in /usr/local/lib/python3.6/dist-packages (from requests>=2.4.3->astroquery) (3.0.4)\n",
            "Requirement already satisfied: idna<2.9,>=2.5 in /usr/local/lib/python3.6/dist-packages (from requests>=2.4.3->astroquery) (2.8)\n",
            "Collecting SecretStorage>=3; sys_platform == \"linux\"\n",
            "  Downloading https://files.pythonhosted.org/packages/c3/50/8a02cad020e949e6d7105f5f4530d41e3febcaa5b73f8f2148aacb3aeba5/SecretStorage-3.1.2-py3-none-any.whl\n",
            "Collecting jeepney>=0.4.2; sys_platform == \"linux\"\n",
            "  Downloading https://files.pythonhosted.org/packages/ae/35/7e580cfed452e3b8c3cca44290adc54b8b5a5b8e37f89da5d24b09318be8/jeepney-0.4.2-py3-none-any.whl\n",
            "Requirement already satisfied: importlib-metadata; python_version < \"3.8\" in /usr/local/lib/python3.6/dist-packages (from keyring>=4.0->astroquery) (1.5.0)\n",
            "Requirement already satisfied: webencodings in /usr/local/lib/python3.6/dist-packages (from html5lib>=0.999->astroquery) (0.5.1)\n",
            "Collecting cryptography\n",
            "\u001b[?25l  Downloading https://files.pythonhosted.org/packages/ca/9a/7cece52c46546e214e10811b36b2da52ce1ea7fa203203a629b8dfadad53/cryptography-2.8-cp34-abi3-manylinux2010_x86_64.whl (2.3MB)\n",
            "\u001b[K     |████████████████████████████████| 2.3MB 46.1MB/s \n",
            "\u001b[?25hRequirement already satisfied: zipp>=0.5 in /usr/local/lib/python3.6/dist-packages (from importlib-metadata; python_version < \"3.8\"->keyring>=4.0->astroquery) (2.1.0)\n",
            "Requirement already satisfied: cffi!=1.11.3,>=1.8 in /usr/local/lib/python3.6/dist-packages (from cryptography->SecretStorage>=3; sys_platform == \"linux\"->keyring>=4.0->astroquery) (1.13.2)\n",
            "Requirement already satisfied: pycparser in /usr/local/lib/python3.6/dist-packages (from cffi!=1.11.3,>=1.8->cryptography->SecretStorage>=3; sys_platform == \"linux\"->keyring>=4.0->astroquery) (2.19)\n",
            "Building wheels for collected packages: astroquery\n",
            "  Building wheel for astroquery (setup.py) ... \u001b[?25l\u001b[?25hdone\n",
            "  Created wheel for astroquery: filename=astroquery-0.4-cp36-none-any.whl size=3582510 sha256=18f61e7d0ae6032072563be50f4a7608547745aef70ace5db30aeb599d54e8e2\n",
            "  Stored in directory: /root/.cache/pip/wheels/a3/6d/9d/f6ceddc68de0e4b7a64b56d6e8c8075e6ef6377ec9c05ce128\n",
            "Successfully built astroquery\n",
            "Installing collected packages: cryptography, jeepney, SecretStorage, keyring, astroquery\n",
            "Successfully installed SecretStorage-3.1.2 astroquery-0.4 cryptography-2.8 jeepney-0.4.2 keyring-21.1.0\n"
          ],
          "name": "stdout"
        }
      ]
    },
    {
      "cell_type": "markdown",
      "metadata": {
        "id": "l7xvAGTp8_vO",
        "colab_type": "text"
      },
      "source": [
        "<a id=\"catalog_ID\"></a>\n",
        "## Get RA and Dec of your Target Using Astroquery Catalogs\n",
        "\n",
        "Here we do a cone search using `Catalogs.query_object` on the TIC catalog around our desired TIC ID. The advantage of doing this is that it gives us the nearby stars as well as the star we are looking for. The resulting table is sorted by distance from the requested object. We print out the ID and a few other TIC quantities to ensure we found the star we were looking for. "
      ]
    },
    {
      "cell_type": "code",
      "metadata": {
        "id": "YfAwcEUt8_vQ",
        "colab_type": "code",
        "colab": {
          "base_uri": "https://localhost:8080/",
          "height": 139
        },
        "outputId": "aa27ea3d-b92d-4cb0-8f32-e4f16ac28b3b"
      },
      "source": [
        "ticid = 388104525\n",
        "\n",
        "starName = \"TIC \" + str(ticid)\n",
        "radSearch = 5 / 60 # radius in degrees\n",
        "\n",
        "catalogData = Catalogs.query_object(starName, radius = radSearch, catalog = \"TIC\")\n",
        "Ra = catalogData[0]['ra']\n",
        "Dec = catalogData[0]['dec']\n",
        "\n",
        "# Print out the first five rows in the table\n",
        "print( catalogData[:5]['ID', 'Tmag', 'Jmag', 'ra', 'dec', 'objType'] )"
      ],
      "execution_count": 5,
      "outputs": [
        {
          "output_type": "stream",
          "text": [
            "    ID      Tmag   Jmag         ra               dec        objType\n",
            "--------- ------- ------ ---------------- ----------------- -------\n",
            "388104525 11.6035 10.924   55.93342240979 -65.1938512272516    STAR\n",
            "650419407 19.8667    nan 55.9404793138343 -65.1938949361536    STAR\n",
            "650419610 18.9745    nan 55.9260110476915 -65.1882654071435    STAR\n",
            "388104522 17.4523 16.367 55.9419878222376 -65.1997148561897    STAR\n",
            "388104523 15.1995 14.574 55.9187712557504 -65.1990332327806    STAR\n"
          ],
          "name": "stdout"
        }
      ]
    },
    {
      "cell_type": "code",
      "metadata": {
        "id": "_cOZklj18_vc",
        "colab_type": "code",
        "colab": {
          "base_uri": "https://localhost:8080/",
          "height": 35
        },
        "outputId": "22b46474-bc30-4ac7-d135-4fb61e68757a"
      },
      "source": [
        "# Create a list of nearby bright stars (tess magnitude less than 14) from the rest of the data for later.\n",
        "bright = catalogData['Tmag'] < 14\n",
        "\n",
        "# Make it a list of Ra, Dec pairs of the bright ones. So this is now a list of nearby bright stars.\n",
        "nearbyStars = list( map( lambda x,y:[x,y], catalogData[bright]['ra'], catalogData[bright]['dec'] ) )\n",
        "len(nearbyStars)"
      ],
      "execution_count": 6,
      "outputs": [
        {
          "output_type": "execute_result",
          "data": {
            "text/plain": [
              "7"
            ]
          },
          "metadata": {
            "tags": []
          },
          "execution_count": 6
        }
      ]
    },
    {
      "cell_type": "markdown",
      "metadata": {
        "id": "hgn7CYhJ8_vk",
        "colab_type": "text"
      },
      "source": [
        "***"
      ]
    },
    {
      "cell_type": "markdown",
      "metadata": {
        "id": "4zuOD3s18_vm",
        "colab_type": "text"
      },
      "source": [
        "## Perform a Sector Query \n",
        "<a id=\"catalog_ID\"></a>\n",
        "Using the TESS sector information service, we make a request to determine which sectors/cameras/CCDs contain data for this target. Remember that there is a set of FFIs for each TESS sector and those are broken up into 4 cameras which each have 4 CCDs.  We will do this with a radius=0 cone search to find only those FFI sets that contain the star of interest. You can also make the query using a larger radius, which may be important if the star is near the edge of one of the CCDs.\n",
        "<p>\n",
        "Note, the request is returned in a json format. The 'results' key contains an array of dictionaries with the information we are looking for.  "
      ]
    },
    {
      "cell_type": "code",
      "metadata": {
        "id": "TJDpwzrS8_vr",
        "colab_type": "code",
        "colab": {
          "base_uri": "https://localhost:8080/",
          "height": 35
        },
        "outputId": "beed55a6-01ac-4bab-892e-3407ec7c256c"
      },
      "source": [
        "url = urlroot + \"/sector\"\n",
        "\n",
        "myparams = {\"ra\":Ra, \"dec\":Dec, \"radius\":\"0m\"}\n",
        "\n",
        "requestData = requests.get(url = url, params = myparams)\n",
        "\n",
        "print(requestData.headers.get('content-type'))"
      ],
      "execution_count": 7,
      "outputs": [
        {
          "output_type": "stream",
          "text": [
            "application/json; charset=UTF-8\n"
          ],
          "name": "stdout"
        }
      ]
    },
    {
      "cell_type": "markdown",
      "metadata": {
        "id": "c080c4JJ8_vx",
        "colab_type": "text"
      },
      "source": [
        "The resulting dictionary of information is stored in results. This target is only in sector 1."
      ]
    },
    {
      "cell_type": "code",
      "metadata": {
        "id": "zmY30qOY8_vz",
        "colab_type": "code",
        "colab": {
          "base_uri": "https://localhost:8080/",
          "height": 55
        },
        "outputId": "f22cc845-ec6a-449a-a667-e63f3178daae"
      },
      "source": [
        "sectors = requestData.json()['results']\n",
        "print(sectors)"
      ],
      "execution_count": 8,
      "outputs": [
        {
          "output_type": "stream",
          "text": [
            "[{'sectorName': 'tess-s0001-4-1', 'sector': '0001', 'camera': '4', 'ccd': '1'}, {'sectorName': 'tess-s0002-3-4', 'sector': '0002', 'camera': '3', 'ccd': '4'}, {'sectorName': 'tess-s0003-3-3', 'sector': '0003', 'camera': '3', 'ccd': '3'}, {'sectorName': 'tess-s0004-4-2', 'sector': '0004', 'camera': '4', 'ccd': '2'}, {'sectorName': 'tess-s0007-4-3', 'sector': '0007', 'camera': '4', 'ccd': '3'}, {'sectorName': 'tess-s0011-4-4', 'sector': '0011', 'camera': '4', 'ccd': '4'}]\n"
          ],
          "name": "stdout"
        }
      ]
    },
    {
      "cell_type": "markdown",
      "metadata": {
        "id": "Ozu70XNx8_v5",
        "colab_type": "text"
      },
      "source": [
        "***"
      ]
    },
    {
      "cell_type": "markdown",
      "metadata": {
        "id": "RsB4rbxf8_v7",
        "colab_type": "text"
      },
      "source": [
        "<a id=\"tesscut_ID\"></a>\n",
        "## Request a FFI Cutout with Astrocut\n",
        "Astrocut is the tool that runs the cutout service around the RA and Dec that were requested. It delivers a zipped file containing a cutout for each set of FFIs as listed above. It is also possible to request only one sector using the \"sector\" parameter,which we will do here.  For tesscut x refers to the CCD columns and y refers to the CCD rows. Distance can be input in a variety of units, I picked pixels (\"px\").\n",
        "\n",
        "< Response [200] > means that your request succeeded."
      ]
    },
    {
      "cell_type": "code",
      "metadata": {
        "id": "2OY9xnoj8_v9",
        "colab_type": "code",
        "colab": {
          "base_uri": "https://localhost:8080/",
          "height": 52
        },
        "outputId": "d03c69c0-e249-4e55-c6db-069f828e8a5a"
      },
      "source": [
        "myparams = {\"ra\":Ra, \"dec\":Dec, \"x\":35, \"y\":45, \n",
        "           \"units\":\"px\", \"sector\":1}\n",
        "\n",
        "url = urlroot + \"/astrocut\"\n",
        "\n",
        "r = requests.get(url = url, params = myparams)\n",
        "\n",
        "print(r)\n",
        "print(r.headers.get('content-type'))"
      ],
      "execution_count": 9,
      "outputs": [
        {
          "output_type": "stream",
          "text": [
            "<Response [200]>\n",
            "application/zip\n"
          ],
          "name": "stdout"
        }
      ]
    },
    {
      "cell_type": "markdown",
      "metadata": {
        "id": "Q4p7CX-c8_wB",
        "colab_type": "text"
      },
      "source": [
        "Create a zip file with the name astrocut.zip containing the content returned from the request."
      ]
    },
    {
      "cell_type": "code",
      "metadata": {
        "id": "EJfQT8he8_wC",
        "colab_type": "code",
        "colab": {
          "base_uri": "https://localhost:8080/",
          "height": 35
        },
        "outputId": "6b0ab13c-a2b8-42a7-f8a5-6b6b9c356dfd"
      },
      "source": [
        "open('astrocut.zip', 'wb').write(r.content)"
      ],
      "execution_count": 10,
      "outputs": [
        {
          "output_type": "execute_result",
          "data": {
            "text/plain": [
              "40516116"
            ]
          },
          "metadata": {
            "tags": []
          },
          "execution_count": 10
        }
      ]
    },
    {
      "cell_type": "markdown",
      "metadata": {
        "id": "a_JgBnYq8_wI",
        "colab_type": "text"
      },
      "source": [
        "### Open the zip file so we can get at the file.\n",
        "We use python's zipfile to unzip the file, but this could also be done using unzip from the command line. In many cases you will get more than one file, one for each sector that observed the star.  If you ask for a large cutout, you might also get more than one because the pixels are on more than one CCD.  In this case, we got back one file. The name contains the RA and Dec as well as the sector number, camera and chip. "
      ]
    },
    {
      "cell_type": "code",
      "metadata": {
        "id": "Auc_Zrtd8_wK",
        "colab_type": "code",
        "colab": {
          "base_uri": "https://localhost:8080/",
          "height": 35
        },
        "outputId": "f91e1857-4c65-42a9-fd24-1b3b67d10fcd"
      },
      "source": [
        "zipRef = zipfile.ZipFile('astrocut.zip','r')\n",
        "zipRef.extractall('.')\n",
        "zipRef.close()\n",
        "\n",
        "# Get list of cuotut names\n",
        "cutoutnames = zipRef.namelist()\n",
        "print(cutoutnames)"
      ],
      "execution_count": 11,
      "outputs": [
        {
          "output_type": "stream",
          "text": [
            "['tess-s0001-4-1_55.933422_-65.193851_35x45_astrocut.fits']\n"
          ],
          "name": "stdout"
        }
      ]
    },
    {
      "cell_type": "markdown",
      "metadata": {
        "id": "SgmqMq388_wQ",
        "colab_type": "text"
      },
      "source": [
        "### Inspect the contents of the file.\n",
        "Use the fits.info function to see the contents of the file. It has three extensions just like a normal target pixel file. Most of the interesting information is in the PIXELS extension."
      ]
    },
    {
      "cell_type": "code",
      "metadata": {
        "id": "992RrEYQ8_wS",
        "colab_type": "code",
        "colab": {
          "base_uri": "https://localhost:8080/",
          "height": 104
        },
        "outputId": "25b2f113-6709-490b-8bb7-ad61f6260326"
      },
      "source": [
        "file1 = cutoutnames[0]\n",
        "fits.info(file1)"
      ],
      "execution_count": 12,
      "outputs": [
        {
          "output_type": "stream",
          "text": [
            "Filename: tess-s0001-4-1_55.933422_-65.193851_35x45_astrocut.fits\n",
            "No.    Name      Ver    Type      Cards   Dimensions   Format\n",
            "  0  PRIMARY       1 PrimaryHDU      55   ()      \n",
            "  1  PIXELS        1 BinTableHDU    279   1282R x 12C   [D, E, J, 1575J, 1575E, 1575E, 1575E, 1575E, J, E, E, 38A]   \n",
            "  2  APERTURE      1 ImageHDU        79   (35, 45)   int32   \n"
          ],
          "name": "stdout"
        }
      ]
    },
    {
      "cell_type": "code",
      "metadata": {
        "id": "V-VEqYXC8_wY",
        "colab_type": "code",
        "colab": {
          "base_uri": "https://localhost:8080/",
          "height": 260
        },
        "outputId": "01144edd-eec1-4bc1-8a58-835ec266b58a"
      },
      "source": [
        "hdu1 = fits.open(file1)\n",
        "hdu1[1].columns"
      ],
      "execution_count": 13,
      "outputs": [
        {
          "output_type": "execute_result",
          "data": {
            "text/plain": [
              "ColDefs(\n",
              "    name = 'TIME'; format = 'D'; unit = 'BJD - 2457000, days'; disp = 'D14.7'\n",
              "    name = 'TIMECORR'; format = 'E'; unit = 'd'; disp = 'E14.7'\n",
              "    name = 'CADENCENO'; format = 'J'; disp = 'I10'\n",
              "    name = 'RAW_CNTS'; format = '1575J'; unit = 'count'; null = -1; disp = 'I8'; dim = '(35, 45)'\n",
              "    name = 'FLUX'; format = '1575E'; unit = 'e-/s'; disp = 'E14.7'; dim = '(35, 45)'\n",
              "    name = 'FLUX_ERR'; format = '1575E'; unit = 'e-/s'; disp = 'E14.7'; dim = '(35, 45)'\n",
              "    name = 'FLUX_BKG'; format = '1575E'; unit = 'e-/s'; disp = 'E14.7'; dim = '(35, 45)'\n",
              "    name = 'FLUX_BKG_ERR'; format = '1575E'; unit = 'e-/s'; disp = 'E14.7'; dim = '(35, 45)'\n",
              "    name = 'QUALITY'; format = 'J'; disp = 'B16.16'\n",
              "    name = 'POS_CORR1'; format = 'E'; unit = 'pixel'; disp = 'E14.7'\n",
              "    name = 'POS_CORR2'; format = 'E'; unit = 'pixel'; disp = 'E14.7'\n",
              "    name = 'FFI_FILE'; format = '38A'; unit = 'pixel'\n",
              ")"
            ]
          },
          "metadata": {
            "tags": []
          },
          "execution_count": 13
        }
      ]
    },
    {
      "cell_type": "markdown",
      "metadata": {
        "id": "XGHyi3_68_wh",
        "colab_type": "text"
      },
      "source": [
        "[Top of Page](#title_ID)"
      ]
    },
    {
      "cell_type": "markdown",
      "metadata": {
        "id": "u3w2PYMe8_wi",
        "colab_type": "text"
      },
      "source": [
        "<a id=\"plot_image\"></a>\n",
        "## Plot the First Image of the Time Series\n"
      ]
    },
    {
      "cell_type": "code",
      "metadata": {
        "id": "j1HfBVWL8_wk",
        "colab_type": "code",
        "colab": {
          "base_uri": "https://localhost:8080/",
          "height": 501
        },
        "outputId": "52463e14-5046-4185-fda8-54cc68bd370e"
      },
      "source": [
        "firstImage = hdu1[1].data['FLUX'][0]\n",
        "fig = plt.figure(figsize=(8,8))\n",
        "plt.imshow(firstImage, origin = 'lower', cmap = plt.cm.viridis, \\\n",
        "           vmax = np.percentile(firstImage,92), vmin = np.percentile(firstImage,5))\n",
        "plt.xlabel('CCD Column', fontsize = 14)\n",
        "plt.ylabel('CCD Row', fontsize = 14)\n",
        "plt.grid(axis = 'both', color = 'white', ls = 'solid')"
      ],
      "execution_count": 14,
      "outputs": [
        {
          "output_type": "display_data",
          "data": {
            "image/png": "[encoded data removed]",
            "text/plain": [
              "<Figure size 576x576 with 1 Axes>"
            ]
          },
          "metadata": {
            "tags": []
          }
        }
      ]
    },
    {
      "cell_type": "markdown",
      "metadata": {
        "id": "vJLjkg088_wq",
        "colab_type": "text"
      },
      "source": [
        "### Add a WCS to the image and mark the requested star as well as nearby stars.\n",
        "We use the WCS in the header to place a red dot on the image for the catalog position of the star on the figure as a demonstration of the WCS. The orange dots are the nearby stars found in the cone search done above. \n",
        "\n",
        "**Note. The WCS is based on the WCS stored in the FFI file for the central part of the time series and there can be some motion during the sector that is not captured.**"
      ]
    },
    {
      "cell_type": "code",
      "metadata": {
        "id": "nTgJ3XdV8_wt",
        "colab_type": "code",
        "colab": {
          "base_uri": "https://localhost:8080/",
          "height": 631
        },
        "outputId": "07ec0ed7-1838-4522-dc66-7cae0af18c47"
      },
      "source": [
        "wcs = WCS(hdu1[2].header)\n",
        "\n",
        "fig = plt.figure(figsize = (10,10))\n",
        "fig.add_subplot(111, projection = wcs)\n",
        "plt.imshow(firstImage, origin = 'lower', cmap = plt.cm.viridis, vmax = np.percentile(firstImage,92),\\\n",
        "           vmin = np.percentile(firstImage,5))\n",
        "\n",
        "plt.xlabel('CCD Column', fontsize = 14)\n",
        "plt.ylabel('CCD Row', fontsize = 14)\n",
        "plt.grid(axis = 'both', color = 'white', ls = 'solid')\n",
        "\n",
        "starLoc = wcs.all_world2pix([[Ra,Dec]],0)  #Second is origin\n",
        "plt.scatter(starLoc[0,0], starLoc[0,1], s = 45, color = 'red')\n",
        "\n",
        "# Plot nearby stars as well, which we created using our Catalog call above.\n",
        "nearbyLoc = wcs.all_world2pix(nearbyStars[1:], 0)\n",
        "plt.scatter(nearbyLoc[1:,0], nearbyLoc[1:,1], s = 25, color = 'orange')"
      ],
      "execution_count": 15,
      "outputs": [
        {
          "output_type": "execute_result",
          "data": {
            "text/plain": [
              "<matplotlib.collections.PathCollection at 0x7fbe78ff7f98>"
            ]
          },
          "metadata": {
            "tags": []
          },
          "execution_count": 15
        },
        {
          "output_type": "display_data",
          "data": {
            "image/png": "[encoded data removed]",
            "text/plain": [
              "<Figure size 720x720 with 1 Axes>"
            ]
          },
          "metadata": {
            "tags": []
          }
        }
      ]
    },
    {
      "cell_type": "markdown",
      "metadata": {
        "id": "sWeSj8188_wy",
        "colab_type": "text"
      },
      "source": [
        "<a id=\"resources_ID\"></a>\n",
        "## Additional Resources\n",
        "[TESScut API Documentation](https://mast.stsci.edu/tesscut/)<br>\n",
        "[Astrocut Documentation](https://astrocut.readthedocs.io/en/latest/)<br>\n",
        "[TESS Homepage](https://archive.stsci.edu/tess)<br>\n",
        "[Astroquery](https://astroquery.readthedocs.io/en/latest/#installation)<br>\n"
      ]
    },
    {
      "cell_type": "markdown",
      "metadata": {
        "id": "Gq7GiGS58_w0",
        "colab_type": "text"
      },
      "source": [
        "<a id=\"about_ID\"></a>\n",
        "## About this Notebook\n",
        "**Author:** Susan E. Mullally, STScI Archive Scientist\n",
        "<br>**Updated On:** 2019-12-6"
      ]
    },
    {
      "cell_type": "markdown",
      "metadata": {
        "id": "WbDb1xs08_w1",
        "colab_type": "text"
      },
      "source": [
        "[Top of Page](#title_ID)\n",
        "<img style=\"float: right;\" src=\"https://raw.githubusercontent.com/spacetelescope/notebooks/master/assets/stsci_pri_combo_mark_horizonal_white_bkgd.png\" alt=\"STScI logo\" width=\"200px\"/> "
      ]
    }
  ]
}