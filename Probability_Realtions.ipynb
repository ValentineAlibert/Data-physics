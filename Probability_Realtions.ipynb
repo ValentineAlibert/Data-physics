{
  "nbformat": 4,
  "nbformat_minor": 0,
  "metadata": {
    "colab": {
      "name": "Probability Realtions.ipynb",
      "provenance": [],
      "collapsed_sections": [],
      "authorship_tag": "ABX9TyPW+xufsG5mC51DcfLMWiOh",
      "include_colab_link": true
    },
    "kernelspec": {
      "name": "python3",
      "display_name": "Python 3"
    }
  },
  "cells": [
    {
      "cell_type": "markdown",
      "metadata": {
        "id": "view-in-github",
        "colab_type": "text"
      },
      "source": [
        "<a href=\"https://colab.research.google.com/github/ValentineAlibert/Data-physics/blob/master/Probability_Realtions.ipynb\" target=\"_parent\"><img src=\"https://colab.research.google.com/assets/colab-badge.svg\" alt=\"Open In Colab\"/></a>"
      ]
    },
    {
      "cell_type": "code",
      "metadata": {
        "colab_type": "code",
        "id": "I9NQhcTBFukz",
        "colab": {}
      },
      "source": [
        ""
      ],
      "execution_count": 0,
      "outputs": []
    },
    {
      "cell_type": "markdown",
      "metadata": {
        "id": "UmC0ar2uzwm_",
        "colab_type": "text"
      },
      "source": [
        "# **Bayes' Theorem**"
      ]
    },
    {
      "cell_type": "markdown",
      "metadata": {
        "id": "H_1WmdSy0M4o",
        "colab_type": "text"
      },
      "source": [
        "Disease Diagnosis\n",
        "\n",
        "\n",
        "Test which look sofr covid 19 antibodies in the population. if 1% of the population has the antibodies. You need to know the probability that you have the disease given a positive test for the disease, or $\\Pr(D \\vert +)$. Each test has certain true positive (99%), false positive (1%), true negative (95%), and false negative rates (5% = positivie results). \n",
        "\n",
        "The true positive rate is the percentage of times that the test will correctly identify the samples that have the disease. The false positive rate is the percentage of times that the test will say that the disease is present when it really is not. The true negative rate is the percentage of times that the test says negative when the #ject does not have disease. The false negative rate is the rate of positive tests when the #ject did not have the disease.\n",
        "\n",
        "In terms of probabilities, it looks like this: \n",
        "**True Positive**: $\\Pr(+ \\vert D)$\n",
        "**False Positive**: $\\Pr(+ \\vert \\neg D)$\n",
        "**True Negative**: $\\Pr(- \\vert \\neg D)$\n",
        "**False Negative** $\\Pr(- \\vert D)$"
      ]
    },
    {
      "cell_type": "code",
      "metadata": {
        "id": "-RlEBTkE5lVQ",
        "colab_type": "code",
        "colab": {}
      },
      "source": [
        "#The standard expression of Bayes Theorem is:\n",
        "\n",
        "#P(A|B) = \\frac{P(B|A)P(A)}{P(B)}\n",
        "\n",
        "#def bayes(P_a, P_b, P_b_given_a):\n",
        "    #Your code here\n",
        "    return P_a_given_b\n",
        "\n",
        "P(D|+) = \\frac{P(+|D)P(D)}{P(+)}\n",
        "\n",
        "def bayes(P_D, P_+, P_+_given_D)\n"
      ],
      "execution_count": 0,
      "outputs": []
    },
    {
      "cell_type": "markdown",
      "metadata": {
        "id": "RJUACQ7q7RGS",
        "colab_type": "text"
      },
      "source": [
        "A test that diagnoses a disease, is characterized by its sensitivity and its specificity.\n",
        "The sensitivity of the test is its true positive rate (the fraction of patients who have the disease and test positive for it).\n",
        "in our case the sensitivity is .99\n",
        "The test's specificity is the fraction of people without the disease, who test negative.95\n",
        "\n",
        "So if we know that a person undergoes a test with 0.99 sensitivity and 0.95 specificity, and tests positive for a disease that has a 1% rate in the population. We want to know What are the actual chances that this person has the disease. In other words what is the conditional probability:"
      ]
    },
    {
      "cell_type": "code",
      "metadata": {
        "id": "tdhz293t7Si-",
        "colab_type": "code",
        "colab": {}
      },
      "source": [
        "#conditional probability can be written according to bayes theorem\n",
        "#P(D|+) = \\frac{P(+|D)P(D)}{P(+)}\n",
        "#I couldn't write the + term so I replaced it with a p\n",
        "\n",
        "def bayes(P_D, P_p, P_p_given_D):\n",
        "  P_p_given_D = 0.99                                # P(+|D) is the sensitivity of the test\n",
        "  P_D = 0.01                                        # P(D) is the prevalence of the disease\n",
        "  P_p = 0.059405\n",
        "  return P_D_given_p\n",
        " \n"
      ],
      "execution_count": 0,
      "outputs": []
    },
    {
      "cell_type": "markdown",
      "metadata": {
        "id": "ChT9XNW3UaYI",
        "colab_type": "text"
      },
      "source": [
        "where P(+|\\overline{D}) is the probability to test positive if not having the disease. P(\\overline{D}) is the probability to not have the disease and it is evaluated as 1- P(D). Using the same law, we can also write P(+|\\overline{D})=1-P(-|\\overline{D}) where P(-|\\overline{D}) is the probability of testing negagive if not having the disease; i.e. the test's specificity. Everything put together:"
      ]
    },
    {
      "cell_type": "code",
      "metadata": {
        "id": "xMOivWjbStpe",
        "colab_type": "code",
        "colab": {}
      },
      "source": [
        "  #les calculs\n",
        "  \n",
        "  P_p_given_D = 0.99                                # P(+|D) is the sensitivity of the test\n",
        "  P_D = 0.01                                        # P(D) is the prevalence of the disease\n",
        "  P_D_given_p = \\frac{(P_p_given_D)(P_D)}{P_p} \n",
        "  #P(+) is the probability that someone will test positive whether or not this person has the disease\n",
        "  P_p = (P_+_given_D)(P_D) + P(P_p_given_D)(P_D)\n",
        "  P(P_p_given_D)(P_D) = 1-P(-|\\overline{D})1- P_D\n",
        "  #proba to test positive if not having the disease = P(P_p_given_D)\n",
        "  #proba to not have the disease\n",
        "  P(\\overline{D}) = 0.01\n",
        "  #s the probability of testing negagive if not having the disease = the test's specificity\n",
        "  P(-|\\overline{D}) = 0.95\n",
        "  P_p = (P_p_given_D)(P_D) + (1-P(-|\\overline{D}))(1-P(\\overline{D}))\n",
        "  #donc on a que : \n",
        "  P_D_given_p = \\frac{(P_p_given_D)(P_D)}{P_p} "
      ],
      "execution_count": 0,
      "outputs": []
    },
    {
      "cell_type": "markdown",
      "metadata": {
        "id": "mylk0-dfUWo0",
        "colab_type": "text"
      },
      "source": [
        "When I calculate everything I have a result of 0.1666 % which means that someone who teste positive for a disease with a 1% prevalence, using a test with 99% sensitivity and 95% specificity, has a 16% chance to have the antibodies.\n",
        "\n",
        "In order to hav "
      ]
    }
  ]
}