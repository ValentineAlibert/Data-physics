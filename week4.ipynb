{
  "nbformat": 4,
  "nbformat_minor": 0,
  "metadata": {
    "colab": {
      "name": "Copy of Untitled4.ipynb",
      "provenance": [],
      "authorship_tag": "ABX9TyNtU2nmINkcCeJRBSo114KP",
      "include_colab_link": true
    },
    "kernelspec": {
      "name": "python2",
      "display_name": "Python 2"
    }
  },
  "cells": [
    {
      "cell_type": "markdown",
      "metadata": {
        "id": "view-in-github",
        "colab_type": "text"
      },
      "source": [
        "<a href=\"https://colab.research.google.com/github/ValentineAlibert/Data-physics/blob/master/week4.ipynb\" target=\"_parent\"><img src=\"https://colab.research.google.com/assets/colab-badge.svg\" alt=\"Open In Colab\"/></a>"
      ]
    },
    {
      "cell_type": "markdown",
      "metadata": {
        "id": "3rlcEq7kjpP2",
        "colab_type": "text"
      },
      "source": [
        "# **Week 4 new version**"
      ]
    },
    {
      "cell_type": "code",
      "metadata": {
        "id": "kTkLxZqNjr4U",
        "colab_type": "code",
        "colab": {
          "base_uri": "https://localhost:8080/",
          "height": 202
        },
        "outputId": "eb0c027b-5c75-4825-e6b7-2c566dcb81c7"
      },
      "source": [
        "#direcotry and download the root form cern\n",
        "!mkdir -p APPS\n",
        "!cd APPS && wget https://root.cern.ch/download/root_v6.13.08.Linux-ubuntu18-x86_64-gcc7.3.tar.gz\n",
        "!cd APPS && tar -xf root_v6.13.08.Linux-ubuntu18-x86_64-gcc7.3.tar.gz"
      ],
      "execution_count": 3,
      "outputs": [
        {
          "output_type": "stream",
          "text": [
            "--2020-03-03 13:33:44--  https://root.cern.ch/download/root_v6.13.08.Linux-ubuntu18-x86_64-gcc7.3.tar.gz\n",
            "Resolving root.cern.ch (root.cern.ch)... 137.138.13.143, 2001:1458:201:45::100:b\n",
            "Connecting to root.cern.ch (root.cern.ch)|137.138.13.143|:443... connected.\n",
            "HTTP request sent, awaiting response... 200 OK\n",
            "Length: 137415272 (131M) [application/x-gzip]\n",
            "Saving to: ‘root_v6.13.08.Linux-ubuntu18-x86_64-gcc7.3.tar.gz’\n",
            "\n",
            "root_v6.13.08.Linux 100%[===================>] 131.05M  18.5MB/s    in 8.1s    \n",
            "\n",
            "2020-03-03 13:33:58 (16.2 MB/s) - ‘root_v6.13.08.Linux-ubuntu18-x86_64-gcc7.3.tar.gz’ saved [137415272/137415272]\n",
            "\n"
          ],
          "name": "stdout"
        }
      ]
    },
    {
      "cell_type": "code",
      "metadata": {
        "id": "WIhsoZjmjuI5",
        "colab_type": "code",
        "outputId": "423d52f0-24f8-4148-a30c-9d431bb2d744",
        "colab": {
          "base_uri": "https://localhost:8080/",
          "height": 370
        }
      },
      "source": [
        "##now we can extract some files from ROOT and ensure that we can access the libraries. We use some python key words to get access to the right files:\n",
        "\n",
        "import sys\n",
        "\n",
        "sys.path.append(\"/content/APPS/root/lib\")\n",
        "\n",
        "import ctypes\n",
        "\n",
        "ctypes.cdll.LoadLibrary('/content/APPS/root/lib/libCore.so')\n",
        "\n",
        "ctypes.cdll.LoadLibrary('/content/APPS/root/lib/libThread.so')\n",
        "\n",
        "ctypes.cdll.LoadLibrary('/content/APPS/root/lib/libImt.so')\n",
        "\n",
        "ctypes.cdll.LoadLibrary('/content/APPS/root/lib/libRIO.so')\n",
        "\n",
        "ctypes.cdll.LoadLibrary('/content/APPS/root/lib/libNet.so')\n",
        "\n",
        "ctypes.cdll.LoadLibrary('/content/APPS/root/lib/libTree.so')\n",
        "\n",
        "ctypes.cdll.LoadLibrary('/content/APPS/root/lib/libMathCore.so')\n",
        "\n",
        "ctypes.cdll.LoadLibrary('/content/APPS/root/lib/libMatrix.so')\n",
        "\n",
        "ctypes.cdll.LoadLibrary('/content/APPS/root/lib/libHist.so')\n",
        "\n",
        "ctypes.cdll.LoadLibrary('/content/APPS/root/lib/libGraf.so')\n",
        "\n",
        "#ctypes.cdll.LoadLibrary('/content/APPS/root/lib/libPyRoot.so')\n",
        "\n",
        "ctypes.cdll.LoadLibrary('/content/APPS/root/lib/libGraf3d.so')\n",
        "\n",
        "ctypes.cdll.LoadLibrary('/content/APPS/root/lib/libMultiProc.so')\n",
        "\n",
        "ctypes.cdll.LoadLibrary('/content/APPS/root/lib/libMinuit.so')\n",
        "\n",
        "ctypes.cdll.LoadLibrary('/content/APPS/root/lib/libFoam.so')"
      ],
      "execution_count": 4,
      "outputs": [
        {
          "output_type": "error",
          "ename": "OSError",
          "evalue": "ignored",
          "traceback": [
            "\u001b[0;31m\u001b[0m",
            "\u001b[0;31mOSError\u001b[0mTraceback (most recent call last)",
            "\u001b[0;32m<ipython-input-4-29486148dbb7>\u001b[0m in \u001b[0;36m<module>\u001b[0;34m()\u001b[0m\n\u001b[1;32m     28\u001b[0m \u001b[0;31m#ctypes.cdll.LoadLibrary('/content/APPS/root/lib/libPyRoot.so')\u001b[0m\u001b[0;34m\u001b[0m\u001b[0;34m\u001b[0m\u001b[0m\n\u001b[1;32m     29\u001b[0m \u001b[0;34m\u001b[0m\u001b[0m\n\u001b[0;32m---> 30\u001b[0;31m \u001b[0mctypes\u001b[0m\u001b[0;34m.\u001b[0m\u001b[0mcdll\u001b[0m\u001b[0;34m.\u001b[0m\u001b[0mLoadLibrary\u001b[0m\u001b[0;34m(\u001b[0m\u001b[0;34m'/content/APPS/root/lib/libGraf3d.so'\u001b[0m\u001b[0;34m)\u001b[0m\u001b[0;34m\u001b[0m\u001b[0m\n\u001b[0m\u001b[1;32m     31\u001b[0m \u001b[0;34m\u001b[0m\u001b[0m\n\u001b[1;32m     32\u001b[0m \u001b[0mctypes\u001b[0m\u001b[0;34m.\u001b[0m\u001b[0mcdll\u001b[0m\u001b[0;34m.\u001b[0m\u001b[0mLoadLibrary\u001b[0m\u001b[0;34m(\u001b[0m\u001b[0;34m'/content/APPS/root/lib/libMultiProc.so'\u001b[0m\u001b[0;34m)\u001b[0m\u001b[0;34m\u001b[0m\u001b[0m\n",
            "\u001b[0;32m/usr/lib/python2.7/ctypes/__init__.pyc\u001b[0m in \u001b[0;36mLoadLibrary\u001b[0;34m(self, name)\u001b[0m\n\u001b[1;32m    442\u001b[0m \u001b[0;34m\u001b[0m\u001b[0m\n\u001b[1;32m    443\u001b[0m     \u001b[0;32mdef\u001b[0m \u001b[0mLoadLibrary\u001b[0m\u001b[0;34m(\u001b[0m\u001b[0mself\u001b[0m\u001b[0;34m,\u001b[0m \u001b[0mname\u001b[0m\u001b[0;34m)\u001b[0m\u001b[0;34m:\u001b[0m\u001b[0;34m\u001b[0m\u001b[0m\n\u001b[0;32m--> 444\u001b[0;31m         \u001b[0;32mreturn\u001b[0m \u001b[0mself\u001b[0m\u001b[0;34m.\u001b[0m\u001b[0m_dlltype\u001b[0m\u001b[0;34m(\u001b[0m\u001b[0mname\u001b[0m\u001b[0;34m)\u001b[0m\u001b[0;34m\u001b[0m\u001b[0m\n\u001b[0m\u001b[1;32m    445\u001b[0m \u001b[0;34m\u001b[0m\u001b[0m\n\u001b[1;32m    446\u001b[0m \u001b[0mcdll\u001b[0m \u001b[0;34m=\u001b[0m \u001b[0mLibraryLoader\u001b[0m\u001b[0;34m(\u001b[0m\u001b[0mCDLL\u001b[0m\u001b[0;34m)\u001b[0m\u001b[0;34m\u001b[0m\u001b[0m\n",
            "\u001b[0;32m/usr/lib/python2.7/ctypes/__init__.pyc\u001b[0m in \u001b[0;36m__init__\u001b[0;34m(self, name, mode, handle, use_errno, use_last_error)\u001b[0m\n\u001b[1;32m    364\u001b[0m \u001b[0;34m\u001b[0m\u001b[0m\n\u001b[1;32m    365\u001b[0m         \u001b[0;32mif\u001b[0m \u001b[0mhandle\u001b[0m \u001b[0;32mis\u001b[0m \u001b[0mNone\u001b[0m\u001b[0;34m:\u001b[0m\u001b[0;34m\u001b[0m\u001b[0m\n\u001b[0;32m--> 366\u001b[0;31m             \u001b[0mself\u001b[0m\u001b[0;34m.\u001b[0m\u001b[0m_handle\u001b[0m \u001b[0;34m=\u001b[0m \u001b[0m_dlopen\u001b[0m\u001b[0;34m(\u001b[0m\u001b[0mself\u001b[0m\u001b[0;34m.\u001b[0m\u001b[0m_name\u001b[0m\u001b[0;34m,\u001b[0m \u001b[0mmode\u001b[0m\u001b[0;34m)\u001b[0m\u001b[0;34m\u001b[0m\u001b[0m\n\u001b[0m\u001b[1;32m    367\u001b[0m         \u001b[0;32melse\u001b[0m\u001b[0;34m:\u001b[0m\u001b[0;34m\u001b[0m\u001b[0m\n\u001b[1;32m    368\u001b[0m             \u001b[0mself\u001b[0m\u001b[0;34m.\u001b[0m\u001b[0m_handle\u001b[0m \u001b[0;34m=\u001b[0m \u001b[0mhandle\u001b[0m\u001b[0;34m\u001b[0m\u001b[0m\n",
            "\u001b[0;31mOSError\u001b[0m: libGpad.so: cannot open shared object file: No such file or directory"
          ]
        }
      ]
    },
    {
      "cell_type": "code",
      "metadata": {
        "id": "rHQR13eaj65H",
        "colab_type": "code",
        "colab": {}
      },
      "source": [
        "#Now we can check if we have everything working as we expect: \n",
        "#Import brings the ROOT framework into our python environment.\n",
        "import ROOT\n",
        "#We define a 1 dimensional histogram, with 100 bins which ranges from -4 to +4\n",
        "h = ROOT.TH1F(\"gauss\",\"Example histogram\",100,-4,4)\n",
        "#Fill the histogram with gaussian (random) distribution\n",
        "h.FillRandom(\"gaus\")\n",
        "#make a Canvas (i.e. a drawing)\n",
        "c = ROOT.TCanvas(\"myCanvasName\",\"The Canvas Title\",800,600)\n",
        "#Draw my histogram\n",
        "h.Draw()\n",
        "#Show me the canvas\n",
        "c.Draw()"
      ],
      "execution_count": 0,
      "outputs": []
    },
    {
      "cell_type": "code",
      "metadata": {
        "id": "Vva83kqGj-py",
        "colab_type": "code",
        "colab": {}
      },
      "source": [
        "!mkdir -p DATA && cd DATA  && wget http://opendata.cern.ch/record/4900/files/B2HHH_MagnetUp.root\n"
      ],
      "execution_count": 0,
      "outputs": []
    },
    {
      "cell_type": "code",
      "metadata": {
        "id": "N1a_ByIckd6K",
        "colab_type": "code",
        "colab": {}
      },
      "source": [
        "#Since we need to use ROOT, we must first import this into Python:\n",
        "import ROOT\n",
        "#Then we open the ROOT file using the TFile command.\n",
        "f = ROOT.TFile.Open(\"DATA/B2HHH_MagnetUp.root\", \"READONLY\")\n",
        "#From our file, we have to extract the DecayTree \n",
        "tree=f.Get(\"DecayTree\")\n",
        "# Now we create a canvas, plot our data onto the canvas and draw it:\n",
        "\n",
        "c = ROOT.TCanvas(\"myCanvasName\",\"The Canvas Title\",800,600)\n",
        "#This string (below) is the total momentum of the H1 particle\n",
        "tree.Draw(\"sqrt(H1_PX**2+H1_PY**2+H1_PZ**2)>>histogram1(100,0,20000)\")\n",
        "#tree.Draw(\"sqrt((H1_PX**2)+(H1_PY**2)+(H1_PZ**2))+>>histogram1,100\")\n",
        "histogram1 = ROOT.gDirectory.Get(\"histogram1\")\n",
        "#histogram1.Draw()\n",
        "#Show me the canvas\n",
        "c.Draw()"
      ],
      "execution_count": 0,
      "outputs": []
    },
    {
      "cell_type": "code",
      "metadata": {
        "id": "gwPISjGCkhWt",
        "colab_type": "code",
        "colab": {}
      },
      "source": [
        "###We need to tell Python what the total momentum is defined as mathematically - do that in this code block:\n",
        "from numpy import *\n",
        "import numpy as np\n",
        "from math import *\n",
        "\n",
        "#Hint: I suggest we define a function which we might want to use later - something like:\n",
        "\n",
        "\n",
        "def p_tot_daughter(daughter):\n",
        "  p_tot = \"sqrt((\"+daughter +\"_PX)**2 + (\"+daughter +\"_PY)**2 + (\"+daughter +\"_PZ)**2)\"\n",
        "  return p_tot\n",
        " \n",
        "\n",
        "p_tot_daughter(\"H1\")\n",
        "\n",
        "\n",
        "\n",
        "\n",
        "p_tot_daughter('H2')"
      ],
      "execution_count": 0,
      "outputs": []
    },
    {
      "cell_type": "code",
      "metadata": {
        "id": "fJ4Kj--NklnP",
        "colab_type": "code",
        "colab": {}
      },
      "source": [
        "#use the histogram plotting tools, call your function to find the total momentum and then plot it!\\\n",
        "\n",
        "#defining the 3 diff particles\n",
        "p1 = \"H1\"\n",
        "p2 = \"H2\"\n",
        "p3 = \"H3\"\n",
        "\n",
        "f = ROOT.TFile.Open(\"DATA/B2HHH_MagnetUp.root\", \"READONLY\")\n",
        "\n",
        "tree=f.Get(\"DecayTree\")\n",
        "\n",
        "### H1 histo\n",
        "c1 = ROOT.TCanvas(\"Momentums of particles\",\"Momentum\",800,600)\n",
        "tree.Draw(p_tot_daughter(p1)+\">>histogram1(100,0,20000)\")\n",
        "histogram1 = ROOT.gDirectory.Get(\"histogram1\")\n",
        "c1.Draw()\n"
      ],
      "execution_count": 0,
      "outputs": []
    },
    {
      "cell_type": "code",
      "metadata": {
        "id": "bdXW2Utlkv-G",
        "colab_type": "code",
        "colab": {}
      },
      "source": [
        "### H2 histo\n",
        "c2 = ROOT.TCanvas(\"Momentums of particles\",\"Momentum\",800,600)\n",
        "tree.Draw(p_tot_daughter(p2)+\">>histogram2(100,0,20000)\")\n",
        "histogram2 = ROOT.gDirectory.Get(\"histogram2\")\n",
        "c2.Draw()"
      ],
      "execution_count": 0,
      "outputs": []
    },
    {
      "cell_type": "code",
      "metadata": {
        "id": "aHECsEv0kzGw",
        "colab_type": "code",
        "colab": {}
      },
      "source": [
        "### H3 histo\n",
        "c3 = ROOT.TCanvas(\"Momentums of particles\",\"Momentum\",800,600)\n",
        "tree.Draw(p_tot_daughter(p3)+\">>histogram3(100,0,20000)\")\n",
        "histogram3 = ROOT.gDirectory.Get(\"histogram3\")\n",
        "c3.Draw()"
      ],
      "execution_count": 0,
      "outputs": []
    },
    {
      "cell_type": "code",
      "metadata": {
        "id": "Qxg3JHGmk4UE",
        "colab_type": "code",
        "colab": {}
      },
      "source": [
        "#####Energy calculation\n",
        "\n",
        "f = ROOT.TFile.Open(\"DATA/B2HHH_MagnetUp.root\", \"READONLY\")\n",
        "\n",
        "tree=f.Get(\"DecayTree\")\n",
        "#def p_tot_daughternumber(daughter):\n",
        " # p_tot = sqrt((+daughter +\"_PX\")**2 + (+daughter +\"_PY\")**2 + (+daughter +\"_PZ\")**2)\n",
        "  #return p_totnum\n",
        "c = 299792458     # m/s\n",
        "mkaon = 493.677   #meV/c^2\n",
        "\n",
        "                      \n",
        "def ekaon (p1):\n",
        "  ekaon = \"sqrt(\"+p_tot_daughter(p1)+\"**2+ (\"+str(mkaon)+\")**2)\"       # (meV/c)\n",
        "  return ekaon\n",
        "\n",
        "\n",
        "e1 = ROOT.TCanvas(\"Energy\",\"Energy\",800,600)\n",
        "tree.Draw(ekaon(p1)+\">>histogram3(100,0,20000)\")\n",
        "histogram4 = ROOT.gDirectory.Get(\"histogram4\")\n",
        "e1.Draw()"
      ],
      "execution_count": 0,
      "outputs": []
    }
  ]
}