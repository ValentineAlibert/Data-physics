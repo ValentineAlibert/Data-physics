{
  "nbformat": 4,
  "nbformat_minor": 0,
  "metadata": {
    "colab": {
      "name": "V.ipynb",
      "provenance": [],
      "collapsed_sections": [],
      "include_colab_link": true
    },
    "kernelspec": {
      "name": "python3",
      "display_name": "Python 3"
    }
  },
  "cells": [
    {
      "cell_type": "markdown",
      "metadata": {
        "id": "view-in-github",
        "colab_type": "text"
      },
      "source": [
        "<a href=\"https://colab.research.google.com/github/ValentineAlibert/Data-physics/blob/master/Week3.ipynb\" target=\"_parent\"><img src=\"https://colab.research.google.com/assets/colab-badge.svg\" alt=\"Open In Colab\"/></a>"
      ]
    },
    {
      "cell_type": "code",
      "metadata": {
        "id": "-SepJX1_fcmJ",
        "colab_type": "code",
        "colab": {}
      },
      "source": [
        ""
      ],
      "execution_count": 0,
      "outputs": []
    },
    {
      "cell_type": "markdown",
      "metadata": {
        "id": "-BeFYHhcfilN",
        "colab_type": "text"
      },
      "source": [
        "# Assignment for Week 3\n",
        "# **PRA3024: Analysis of Big Data in Physics.**"
      ]
    },
    {
      "cell_type": "markdown",
      "metadata": {
        "id": "tW08LUE6fmVQ",
        "colab_type": "text"
      },
      "source": [
        "The Fisher Matrix formalism: Plug and Play version "
      ]
    },
    {
      "cell_type": "code",
      "metadata": {
        "id": "e8g7lmvwfrjW",
        "colab_type": "code",
        "outputId": "4950fe36-0107-42fb-b6bd-cd2dcad67d70",
        "colab": {
          "base_uri": "https://localhost:8080/",
          "height": 131
        }
      },
      "source": [
        "from scipy.integrate import quad\n",
        "import spcicy.integrate as integrate\n",
        "import numpy as np\n",
        "\n",
        "f_upper = 500\n",
        "f_lower= 40 \n",
        "#with the ligo noise curve\n",
        "Sh = So((4.49*x))\n",
        "fs= 20\n",
        "\n",
        "\n",
        "!pip install numpy\n",
        "\n",
        "import scipy.integrate as integrate\n",
        "\n",
        "SNR = 10.0\n",
        "\n",
        "A = sqrt(SNR/(4*(integrate.quad(lambda f: (f**(-7/6)/S)))) \n",
        "#not finished add integral    \n",
        "#f s & f upper with the ligo noise curve\n",
        "\n",
        "print (A)\n",
        "\n",
        "M_1 =            \n",
        "#mass of first object (black hole)\n",
        "M_2 =            \n",
        "#mass of second object (balck hole)\n",
        "\n",
        "M_tot = M_1 + M_2\n",
        "#total mass\n",
        "\n",
        "f_upper = pow((pow(6,(3/2))*math.pi*M_tot), -1) \n",
        "#higher cutoff frequency, Hz\n",
        "\n",
        "f_lower = 40.0 \n",
        "# lower cutoff frequency, Hz\n",
        "#peut etre utlisier les données pour le ligo \n",
        "#now the Sh(f)\n",
        "\n",
        "\n",
        "f=      \n",
        "# frequency\n",
        "t_c =       \n",
        "#time of collision\n",
        "phi_c =     \n",
        "#phase \n",
        "eta = (M_1 * M_2)/pow(M_tot, 2) \n",
        "v = pow((math.pi*M_tot*f), (1/3)) \n",
        "# velocity\n",
        "\n",
        "a_0 = 1.0\n",
        "a_1 = 0.0\n",
        "a_2 = (20/9) * ((743/336) + (11/4)*eta)\n",
        "a_3 = -16*math.pi\n",
        "a_4 = 10*((3058673/1016064) + (5429/1008)*eta +(617/144)*pow(eta, 2) )\n",
        "\n",
        "f_0 = 150               //\n",
        "S_0 = 9 * pow(10, -46)\n",
        "x = f/f_0\n",
        "\n",
        "\n",
        "\n",
        "def psi (f, t_c, phi_c, eta):\n",
        "  2 * math.pi * f * t_c - phi_c - (math.pi/4) + (3/(128 * eta * pow(v, 5))) + 1 \n",
        "\n",
        "def h (A, psi):\n",
        "   A * pow(f, (-7/6)) * pow(math.e, (math.i * psi))\n",
        "\n",
        "def S (S_0, x):\n",
        "   return S_0*((4.49*x)**-56 + (0.16*x)**-4.52 + 0.52 + 0.32*x*x)"
      ],
      "execution_count": 0,
      "outputs": [
        {
          "output_type": "error",
          "ename": "SyntaxError",
          "evalue": "ignored",
          "traceback": [
            "\u001b[0;36m  File \u001b[0;32m\"<ipython-input-3-6e53c1f2ce60>\"\u001b[0;36m, line \u001b[0;32m26\u001b[0m\n\u001b[0;31m    print (A)\u001b[0m\n\u001b[0m        ^\u001b[0m\n\u001b[0;31mSyntaxError\u001b[0m\u001b[0;31m:\u001b[0m invalid syntax\n"
          ]
        }
      ]
    },
    {
      "cell_type": "code",
      "metadata": {
        "id": "xYcqWBgyQTUe",
        "colab_type": "code",
        "outputId": "8b41e311-4976-46e7-8c50-6271d87307de",
        "colab": {
          "base_uri": "https://localhost:8080/",
          "height": 34
        }
      },
      "source": [
        "from sympy import Symbol\n",
        "import scipy.integrate as integrate\n",
        "import numpy as np\n",
        "def S (S_0):\n",
        "   return S_0*((4.49*x)**-56 + (0.16*x)**-4.52 + 0.52 + 0.32*x*x)\n",
        "\n",
        "#we worked with the virgo values\n",
        "\n",
        "\n",
        "c=3*10**8 \n",
        " #speed of light in meters per second\n",
        "G=6.67430*10**(-11)  \n",
        "#Newton's constant in kilogram of a meter per second squared\n",
        "SNR=10\n",
        "#given in the article\n",
        "fs=20 \n",
        "#fs given in the article coresponds to the lower frequency\n",
        "M=10**(31)\n",
        "#fu=((6**(3/2)*np.pi*M))**(-1)*(c**3)*(1/G)\n",
        "fu=500\n",
        "#given in the article upper frequency in hertz\n",
        "x=Symbol('x')\n",
        "S0=3.24*10**(-46)\n",
        "#psd\n",
        "S=S0*((6.23*x)**(-5)+2*x**(-1)+1+x**(2))\n",
        "#The initial virgo noise curve\n",
        "#ture for f>fs\n",
        "A =np.sqrt(SNR/(4* (integrate.quad(lambda x: (x**(-7/6)/(S0*((4.49*x)**-56 + (0.16*x)**-4.52 + 0.52 + 0.32*x*x))),fs,fu)[0])))\n",
        "print (A)"
      ],
      "execution_count": 0,
      "outputs": [
        {
          "output_type": "stream",
          "text": [
            "6.092935262837662e-22\n"
          ],
          "name": "stdout"
        }
      ]
    },
    {
      "cell_type": "markdown",
      "metadata": {
        "id": "yxEyLe2mQ1fy",
        "colab_type": "text"
      },
      "source": [
        "![image.png](data:image/png;base64,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)"
      ]
    },
    {
      "cell_type": "code",
      "metadata": {
        "id": "3zzlPn0tQ4uo",
        "colab_type": "code",
        "colab": {}
      },
      "source": [
        "Arrayparam = [a,b,c,d]\n",
        "\n"
      ],
      "execution_count": 0,
      "outputs": []
    },
    {
      "cell_type": "code",
      "metadata": {
        "colab_type": "code",
        "id": "ZJkm2fPrJjjS",
        "colab": {}
      },
      "source": [
        " def  h(f): \n",
        "   #il faut faire le h(s)\n",
        "   #en haut du code on a deja le h, le s et le spi\n",
        "\n",
        "  A*f**(-7/6)\n",
        "\n",
        "\n",
        " "
      ],
      "execution_count": 0,
      "outputs": []
    },
    {
      "cell_type": "markdown",
      "metadata": {
        "id": "xoDDM0riKXol",
        "colab_type": "text"
      },
      "source": [
        ""
      ]
    }
  ]
}