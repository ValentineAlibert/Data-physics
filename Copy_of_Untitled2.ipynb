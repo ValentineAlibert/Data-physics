{
  "nbformat": 4,
  "nbformat_minor": 0,
  "metadata": {
    "colab": {
      "name": "Copy of Untitled2.ipynb",
      "provenance": [],
      "authorship_tag": "ABX9TyOLwBVp+Eb+pw2t7Vthniz7",
      "include_colab_link": true
    },
    "kernelspec": {
      "name": "python3",
      "display_name": "Python 3"
    }
  },
  "cells": [
    {
      "cell_type": "markdown",
      "metadata": {
        "id": "view-in-github",
        "colab_type": "text"
      },
      "source": [
        "<a href=\"https://colab.research.google.com/github/ValentineAlibert/Data-physics/blob/master/Copy_of_Untitled2.ipynb\" target=\"_parent\"><img src=\"https://colab.research.google.com/assets/colab-badge.svg\" alt=\"Open In Colab\"/></a>"
      ]
    },
    {
      "cell_type": "markdown",
      "metadata": {
        "id": "NUjRlahqG77O",
        "colab_type": "text"
      },
      "source": [
        "# Assignment for Week 3\n",
        "# PRA3024: Analysis of Big Data in Physics"
      ]
    },
    {
      "cell_type": "code",
      "metadata": {
        "id": "zJcI6NlsHE0r",
        "colab_type": "code",
        "outputId": "8e1c053b-4d28-4c84-bdcd-6262f80bc944",
        "colab": {
          "base_uri": "https://localhost:8080/",
          "height": 34
        }
      },
      "source": [
        "from sympy import symbols, diff, Symbol\n",
        "import scipy.integrate as integrate\n",
        "import numpy as np\n",
        "import math\n",
        "          \n",
        "#general comments\n",
        "\n",
        "#M_1 = mass of first object (black hole)           \n",
        "#M_2 = mass of second object (balck hole)\n",
        "#M = M_1 + M_2 (total mass)\n",
        "m1 = 10**30 # kg\n",
        "m2 = 10**30 # kg\n",
        "\n",
        "# f = frequency      \n",
        "# t_c= time of collision    \n",
        "#phi_c = phase \n",
        "\n",
        "\n",
        "c=3*10**8\n",
        "G=6.67430*10**(-11)   \n",
        "SNR=10\n",
        "fs=20 #lower bond\n",
        "M=10**(31)\n",
        "#fu=((6**(3/2)*np.pi*M))**(-1)*(c**3)*(1/G)\n",
        "#Virgo\n",
        "fu_virgo=500 #higher bond\n",
        "f=Symbol('f')\n",
        "S0_virgo=3.24*10**(-46)\n",
        "def S_virgo(f):\n",
        "  return S0_virgo*((6.23*f)**(-5)+2*f**(-1)+1+f**(2))\n",
        "\n",
        "#ture for f>fs\n",
        "A =np.sqrt(SNR/(4* (integrate.quad(lambda f: (f**(-7/6)/(S0_virgo*((4.49*f)**-56 + (0.16*f)**-4.52 + 0.52 + 0.32*f*f))),fs,fu_virgo)[0])))\n",
        "print (A)\n",
        "\n",
        "#for the initial ligo noise curve\n",
        "def S_ligo(f):\n",
        "  return S0_ligo*((4.49*f)**(-56)+(0.16*f)**-4.52 + 0.52 + 0.32*f*f)\n",
        "fu_ligo = 150 \n",
        "fs_ligo = 40\n",
        "S0_ligo = 9*10**(-46)"
      ],
      "execution_count": 0,
      "outputs": [
        {
          "output_type": "stream",
          "text": [
            "6.092935262837662e-22\n"
          ],
          "name": "stdout"
        }
      ]
    },
    {
      "cell_type": "markdown",
      "metadata": {
        "id": "7XqRkj8fHXAd",
        "colab_type": "text"
      },
      "source": [
        "![image.png](data:image/png;base64,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)"
      ]
    },
    {
      "cell_type": "code",
      "metadata": {
        "id": "SWwLcxhNIEm_",
        "colab_type": "code",
        "colab": {}
      },
      "source": [
        "pi =math.pi \n",
        "\n",
        "m2 ,m1,T_C,phy_C= symbols ('m2, m1, T_c,phy_c')\n",
        "\n",
        "M = m2 +m1\n",
        "\n",
        "def Psi(f):\n",
        " return 2*f*T_c - phy_C - (pi/4 ) + (3/(128*(m1.m2/m**(2))*((pi*M*f)**(3/5))))\n",
        "\n",
        "\n",
        " \n",
        "def h(f,psi): \n",
        " return A*f**(-7/6)*exp(1j*psi)"
      ],
      "execution_count": 0,
      "outputs": []
    },
    {
      "cell_type": "code",
      "metadata": {
        "id": "_O_91AAmIIXJ",
        "colab_type": "code",
        "outputId": "99fc7461-84fb-4dfe-d78f-fc87917b563e",
        "colab": {
          "base_uri": "https://localhost:8080/",
          "height": 128
        }
      },
      "source": [
        "Parametre = [m1,m2,T_C,phy_C]\n",
        "derivative_hf = diff(h, Parametre[i])/10\n",
        "\n",
        "def tau(h,f,p1,p2):\n",
        "  return 4* (integrate.quad(lambda f:diff(h(f, psi),Parametre[p1]*diff(h(f, psi), Parametre[p2]/S_virgo(f),fs,fu_virgo)[0]))\n",
        "Fisher_M = (Parametre, list (reversed(Parametre)))\n",
        "#we tried this way but the revesred, and the defintiono of tau is hard"
      ],
      "execution_count": 0,
      "outputs": [
        {
          "output_type": "error",
          "ename": "SyntaxError",
          "evalue": "ignored",
          "traceback": [
            "\u001b[0;36m  File \u001b[0;32m\"<ipython-input-26-95e71a334ea3>\"\u001b[0;36m, line \u001b[0;32m6\u001b[0m\n\u001b[0;31m    Fisher_M = (Parametre, list (reversed(Parametre)))\u001b[0m\n\u001b[0m           ^\u001b[0m\n\u001b[0;31mSyntaxError\u001b[0m\u001b[0;31m:\u001b[0m invalid syntax\n"
          ]
        }
      ]
    },
    {
      "cell_type": "code",
      "metadata": {
        "id": "V5pUM7Cob1gJ",
        "colab_type": "code",
        "colab": {}
      },
      "source": [
        "#load Einstein Telescope data\n",
        "\n",
        "def load_einstein():\n",
        "    try:\n",
        "        file = open('EinsteinPDS')\n",
        "    except:\n",
        "        print(\"Please move the 'LigoPDS' file into the folder from which you are running this programme\")\n",
        "    string_read = file.read()\n",
        "    arr = list(map(float, string_read.split()))\n",
        "    x_arr = []\n",
        "    y_arr1 = []\n",
        "    y_arr2 = []\n",
        "    y_arr3 = []\n",
        "    for i in range(len(arr)):\n",
        "        if i % 4 == 0:\n",
        "            x_arr.append(arr[i])\n",
        "        if i % 4 == 1:\n",
        "            y_arr1.append(arr[i])\n",
        "        if i % 4 == 2:\n",
        "            y_arr2.append(arr[i])\n",
        "        if i % 4 == 3:\n",
        "            y_arr3.append(arr[i])\n",
        "    plt.plot(x_arr, y_arr1)\n",
        "    plt.plot(x_arr, y_arr2)\n",
        "    plt.plot(x_arr, y_arr3)\n",
        "    plt.yscale('log')\n",
        "    plt.xscale('log')\n",
        "    return x_arr, y_arr3\n",
        "\n",
        "#load Advanced Ligo data\n",
        "\n",
        "def load_adv_ligo():\n",
        "    try:\n",
        "        file = open('LigoPDS')\n",
        "    except:\n",
        "        print(\"Please move the 'LigoPDS' file into the folder from which you are running this programme\")\n",
        "    string_read = file.read()\n",
        "    arr = list(map(float, string_read.split()))\n",
        "    x_arr = []\n",
        "    y_arr1 = []\n",
        "    y_arr2 = []\n",
        "    y_arr3 = []\n",
        "    y_arr4 = []\n",
        "    y_arr5 = []\n",
        "    y_arr6 = []\n",
        "    for i in range(len(arr)):\n",
        "        if i % 7 == 0:\n",
        "            x_arr.append(arr[i])\n",
        "        if i % 7 == 1:\n",
        "            y_arr1.append(arr[i])\n",
        "        if i % 7 == 2:\n",
        "            y_arr2.append(arr[i])\n",
        "        if i % 7 == 3:\n",
        "            y_arr3.append(arr[i])\n",
        "        if i % 7 == 4:\n",
        "            y_arr4.append(arr[i])\n",
        "        if i % 7 == 5:\n",
        "            y_arr5.append(arr[i])\n",
        "        if i % 7 == 6:\n",
        "            y_arr6.append(arr[i])\n",
        "    plt.plot(x_arr, y_arr1)\n",
        "    plt.plot(x_arr, y_arr2)\n",
        "    plt.plot(x_arr, y_arr3)\n",
        "    plt.plot(x_arr, y_arr4)\n",
        "    plt.plot(x_arr, y_arr5)\n",
        "    plt.plot(x_arr, y_arr6)\n",
        "    plt.yscale('log')\n",
        "    plt.xscale('log')\n",
        "    return x_arr, y_arr6\n"
      ],
      "execution_count": 0,
      "outputs": []
    },
    {
      "cell_type": "code",
      "metadata": {
        "id": "wSWsH1HcWr-D",
        "colab_type": "code",
        "colab": {}
      },
      "source": [
        "\n",
        "''' Finds derivative h'(f)'''\n",
        "def get_h_f_derivative(A, f, i, Psi):\n",
        "    delta_x = params[i] / 10\n",
        "    new_params = params.copy()\n",
        "    new_params[i] = new_params[i] + params[i] / 10\n",
        "    delta_y = get_h_f(A, f, new_params, function_index) - get_h_f(A, f, params, function_index)\n",
        "    return delta_y / delta_x\n",
        "\n",
        "\n",
        "#Creates matrix using previous function\n",
        "def create_fisher_matrix(A, freq_list, pds, function_index):\n",
        "    fisher_matrix = []\n",
        "    for i in range(len(params)):\n",
        "        fisher_matrix.append([])\n",
        "        for j in range(len(params)):\n",
        "            integral = 0\n",
        "            for f, sh in zip(freq_list, pds):\n",
        "                integral += np.real(get_h_f_derivative(A, f, i, function_index)\n",
        "                                    * get_h_f_derivative(A, f, j, function_index) / sh)\n",
        "            # print(integral)\n",
        "            fisher_matrix[-1].append(integral)\n",
        "    return(fisher_matrix)\n",
        "'''This function can plot both the PDS of initial and advanced LIGO'''\n",
        "def graph_s_h(telescope):\n",
        "    graph_array = []\n",
        "    try:\n",
        "        if telescope == 'ligo':\n",
        "            for i in range(0, 1000):\n",
        "                graph_array.append(np.sqrt(s_h_ligo(i)))\n",
        "        elif telescope == 'adv_ligo':\n",
        "            for i in range(0, 1000):\n",
        "                graph_array.append(np.sqrt(s_h_adv_ligo(i)))\n",
        "        plt.figure()\n",
        "        plt.plot(graph_array)\n",
        "        plt.yscale('log')\n",
        "        plt.xscale('log')\n",
        "        axes = plt.gca()\n",
        "        axes.set_ylim([10**(-24), 10**(-21)])\n",
        "        axes.set_xlim([10**1, 10**3])\n",
        "    except:\n",
        "        print(\"no analytical solve for this telescope known\")"
      ],
      "execution_count": 0,
      "outputs": []
    },
    {
      "cell_type": "code",
      "metadata": {
        "id": "1x9JNFfvhAdL",
        "colab_type": "code",
        "outputId": "0a9870f2-90fe-4a00-da74-ff86c976a2f2",
        "colab": {
          "base_uri": "https://localhost:8080/",
          "height": 229
        }
      },
      "source": [
        "############################## MAIN #######################################\n",
        "# Comment colour coding in the main part:\n",
        "'''green = physics'''\n",
        "#  grey = programming\n",
        "\n",
        "# first, read in the pds of advanced ligo/the Einstein telescope\n",
        "freq_list, pds = load_adv_ligo()\n",
        "freq_list_einstein, pds_einstein = load_einstein()\n",
        "\n",
        "''' As you can see here the PDS of the Einstein telescope is smaller across the\n",
        "board, indicating that it is capable of detecting much smaller signals. It is\n",
        "also notable that the x-axis doesn't have the same range, where ligo already\n",
        "significantly worsens around f<10^2 the Einstein telescope keeps up until\n",
        "f<10^1'''"
      ],
      "execution_count": 0,
      "outputs": [
        {
          "output_type": "error",
          "ename": "NameError",
          "evalue": "ignored",
          "traceback": [
            "\u001b[0;31m---------------------------------------------------------------------------\u001b[0m",
            "\u001b[0;31mNameError\u001b[0m                                 Traceback (most recent call last)",
            "\u001b[0;32m<ipython-input-28-fbf581986cae>\u001b[0m in \u001b[0;36m<module>\u001b[0;34m()\u001b[0m\n\u001b[1;32m      3\u001b[0m \u001b[0;34m\u001b[0m\u001b[0m\n\u001b[1;32m      4\u001b[0m \u001b[0;31m# first, read in the pds of advanced ligo/the Einstein telescope\u001b[0m\u001b[0;34m\u001b[0m\u001b[0;34m\u001b[0m\u001b[0;34m\u001b[0m\u001b[0m\n\u001b[0;32m----> 5\u001b[0;31m \u001b[0mfreq_list\u001b[0m\u001b[0;34m,\u001b[0m \u001b[0mpds\u001b[0m \u001b[0;34m=\u001b[0m \u001b[0mload_adv_ligo\u001b[0m\u001b[0;34m(\u001b[0m\u001b[0;34m)\u001b[0m\u001b[0;34m\u001b[0m\u001b[0;34m\u001b[0m\u001b[0m\n\u001b[0m\u001b[1;32m      6\u001b[0m \u001b[0mfreq_list_einstein\u001b[0m\u001b[0;34m,\u001b[0m \u001b[0mpds_einstein\u001b[0m \u001b[0;34m=\u001b[0m \u001b[0mload_einstein\u001b[0m\u001b[0;34m(\u001b[0m\u001b[0;34m)\u001b[0m\u001b[0;34m\u001b[0m\u001b[0;34m\u001b[0m\u001b[0m\n\u001b[1;32m      7\u001b[0m \u001b[0;34m\u001b[0m\u001b[0m\n",
            "\u001b[0;31mNameError\u001b[0m: name 'load_adv_ligo' is not defined"
          ]
        }
      ]
    }
  ]
}